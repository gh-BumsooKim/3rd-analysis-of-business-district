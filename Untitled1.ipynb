{
 "cells": [
  {
   "cell_type": "code",
   "execution_count": 356,
   "metadata": {},
   "outputs": [],
   "source": [
    "import pandas as pd\n",
    "import matplotlib.pyplot as plt\n",
    "import seaborn as sns\n",
    "import numpy as np\n",
    "%matplotlib inline\n",
    "\n",
    "selng=pd.read_csv(\"./Desktop/데이터분석/SELNG.csv\", delimiter='|')\n",
    "cnfm_prmisn=pd.read_csv(\"./Desktop/데이터분석/CNFM_PRMISN.csv\", delimiter='|',encoding='cp949')\n",
    "rent_curprc=pd.read_csv(\"./Desktop/데이터분석/RENT_CURPRC.csv\", delimiter='|')\n",
    "blck_flpop=pd.read_csv(\"./Desktop/데이터분석/BLCK_FLPOP.csv\", delimiter='|')\n",
    "#blck_dim=pd.read_csv((\"./Desktop/데이터분석/BLCK_DIM.csv\", delimiter='|'))\n",
    "#파일 불러오기"
   ]
  },
  {
   "cell_type": "code",
   "execution_count": 357,
   "metadata": {},
   "outputs": [],
   "source": [
    "selng.drop(['TA_YM'],axis='columns', inplace=True)\n",
    "cnfm_prmisn.drop(['STDR_YM_CD','STOR_NM','SVC_INDUTY_CD','OLD_ADRES','NW_ADRES','TELNO','PROC_CLSS','ROAD_CD','XCNTS_VALUE','YDNTS_VALUE'],axis='columns', inplace=True)\n",
    "rent_curprc.drop(['STOR_YY_CD','STDR_QU_CD','RENT_FLOOR_CD'],axis='columns', inplace=True)\n",
    "blck_flpop.drop(['STDR_YM_CD'],axis='columns',inplace=True)\n",
    "#분석할때 필요없는 데이터 정리, blck_flpop,selng 테이블은 좀 더 정리 필요"
   ]
  },
  {
   "cell_type": "code",
   "execution_count": 358,
   "metadata": {},
   "outputs": [],
   "source": [
    "rent_curprc_con=(rent_curprc['CNVRSN_RNTCHRG']!=0)\n",
    "#값이 '0'으로 존재하는 데이터의 경우를 제외"
   ]
  },
  {
   "cell_type": "code",
   "execution_count": 359,
   "metadata": {},
   "outputs": [],
   "source": [
    "#BLCK_CD 기준으로 테이블 합쳐서 정렬(독립변수)->매출액을 기준으로(종속변수) 다중회귀분석 =>매출액 결정 요인의 분석\n",
    "#->blck_flpop/selng 테이블 데이터 전처리에 신경써야할듯,,,\n",
    "#RENT_CURPRC에서는 BLCK_CD 없으므로 블록영역정보 데이터(TBGIS_BLCK_RELM_INFO(34)나 BLCK_DIM(23))에서 BLCK_CD와 ADSTRD_CD 연결해야할듯\n",
    "#시계열 분석 통해서 매출액 결정 요인/매출액 변화되는 양상 추정->예측=>K-군집분석으로 입지 유형의 분류\n",
    "#입지선정"
   ]
  },
  {
   "cell_type": "code",
   "execution_count": 361,
   "metadata": {
    "scrolled": true
   },
   "outputs": [],
   "source": [
    "#data_1=\n",
    "data_3=blck_flpop[blck_flpop['BLCK_CD'].isin(selng['BLCK_CD'].values)] #blck_cd가 겹치는 경우의 코드를 따로 추출\n",
    "data_4=cnfm_prmisn[cnfm_prmisn['BLCK_CD'].isin(selng['BLCK_CD'].values)]\n",
    "data_5=selng.set_index('BLCK_CD').join(data_3.set_index('BLCK_CD'), how='outer').reset_index()#코드 합치기\n",
    "data_6=data_5.set_index('BLCK_CD').join(data_4.set_index('BLCK_CD'), how='outer').reset_index()#최종 코드 합치기\n",
    "\n",
    "#rent_curprc는 blck_cd랑 합치기"
   ]
  },
  {
   "cell_type": "code",
   "execution_count": null,
   "metadata": {},
   "outputs": [],
   "source": []
  }
 ],
 "metadata": {
  "kernelspec": {
   "display_name": "Python 3",
   "language": "python",
   "name": "python3"
  },
  "language_info": {
   "codemirror_mode": {
    "name": "ipython",
    "version": 3
   },
   "file_extension": ".py",
   "mimetype": "text/x-python",
   "name": "python",
   "nbconvert_exporter": "python",
   "pygments_lexer": "ipython3",
   "version": "3.7.6"
  }
 },
 "nbformat": 4,
 "nbformat_minor": 4
}
